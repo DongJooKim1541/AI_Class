{
 "cells": [
  {
   "cell_type": "code",
   "execution_count": 1,
   "metadata": {},
   "outputs": [
    {
     "name": "stderr",
     "output_type": "stream",
     "text": [
      "Using TensorFlow backend.\n"
     ]
    }
   ],
   "source": [
    "from keras.datasets import imdb \n",
    "(train_data, train_labels), (test_data, test_labels) = imdb.load_data(num_words=10000)"
   ]
  },
  {
   "cell_type": "code",
   "execution_count": 2,
   "metadata": {},
   "outputs": [],
   "source": [
    "import numpy as np \n",
    "def vectorize_sequences(sequences, dimension=10000): \n",
    "    results = np.zeros((len(sequences), dimension)) \n",
    "    for i, sequence in enumerate(sequences): \n",
    "        results[i, sequence] = 1.\n",
    "    return results\n",
    "x_train = vectorize_sequences(train_data) \n",
    "x_test = vectorize_sequences(test_data) \n",
    "y_train = np.asarray(train_labels).astype('float32')\n",
    "y_test = np.asarray(test_labels).astype('float32')"
   ]
  },
  {
   "cell_type": "code",
   "execution_count": 3,
   "metadata": {},
   "outputs": [],
   "source": [
    "partial_train_data = x_train[:15000]\n",
    "partial_train_labels=y_train[:15000]\n",
    "partial_test_data = x_train[15000:25000]\n",
    "partial_test_labels = y_train[15000:25000]"
   ]
  },
  {
   "cell_type": "code",
   "execution_count": 4,
   "metadata": {},
   "outputs": [],
   "source": [
    "from keras import models \n",
    "from keras import layers\n",
    "from keras import regularizers\n",
    "\n",
    "model = models.Sequential() \n",
    "model.add(layers.Dense(32,activation='relu', input_shape=(10000,))) \n",
    "model.add(layers.Dropout(0.5))\n",
    "model.add(layers.Dense(32,activation='relu')) \n",
    "model.add(layers.Dropout(0.5))\n",
    "model.add(layers.Dense(1, activation='sigmoid'))"
   ]
  },
  {
   "cell_type": "code",
   "execution_count": 5,
   "metadata": {},
   "outputs": [],
   "source": [
    "model.compile(optimizer='rmsprop',loss='binary_crossentropy',metrics=['accuracy'])"
   ]
  },
  {
   "cell_type": "code",
   "execution_count": 6,
   "metadata": {},
   "outputs": [],
   "source": [
    "t_val=partial_train_data[:10000]\n",
    "partial_t_train=partial_train_data[10000:]\n",
    "l_val=partial_train_labels[:10000]\n",
    "partial_l_train=partial_train_labels[10000:]"
   ]
  },
  {
   "cell_type": "code",
   "execution_count": 7,
   "metadata": {},
   "outputs": [
    {
     "name": "stdout",
     "output_type": "stream",
     "text": [
      "Train on 5000 samples, validate on 10000 samples\n",
      "Epoch 1/20\n",
      "5000/5000 [==============================] - 2s 418us/step - loss: 0.6807 - acc: 0.5532 - val_loss: 0.6251 - val_acc: 0.7574\n",
      "Epoch 2/20\n",
      "5000/5000 [==============================] - 2s 326us/step - loss: 0.5960 - acc: 0.6986 - val_loss: 0.5285 - val_acc: 0.8270\n",
      "Epoch 3/20\n",
      "5000/5000 [==============================] - 2s 340us/step - loss: 0.5187 - acc: 0.7854 - val_loss: 0.4547 - val_acc: 0.8484\n",
      "Epoch 4/20\n",
      "5000/5000 [==============================] - 2s 356us/step - loss: 0.4360 - acc: 0.8302 - val_loss: 0.3977 - val_acc: 0.8556\n",
      "Epoch 5/20\n",
      "5000/5000 [==============================] - 2s 336us/step - loss: 0.3648 - acc: 0.8730 - val_loss: 0.3683 - val_acc: 0.8565\n",
      "Epoch 6/20\n",
      "5000/5000 [==============================] - 2s 335us/step - loss: 0.3122 - acc: 0.8926 - val_loss: 0.3630 - val_acc: 0.8453\n",
      "Epoch 7/20\n",
      "5000/5000 [==============================] - 2s 330us/step - loss: 0.2701 - acc: 0.9142 - val_loss: 0.3211 - val_acc: 0.8693\n",
      "Epoch 8/20\n",
      "5000/5000 [==============================] - 2s 329us/step - loss: 0.2190 - acc: 0.9320 - val_loss: 0.3196 - val_acc: 0.8678\n",
      "Epoch 9/20\n",
      "5000/5000 [==============================] - 2s 362us/step - loss: 0.1935 - acc: 0.9392 - val_loss: 0.3237 - val_acc: 0.8658\n",
      "Epoch 10/20\n",
      "5000/5000 [==============================] - 2s 344us/step - loss: 0.1642 - acc: 0.9554 - val_loss: 0.3153 - val_acc: 0.8724\n",
      "Epoch 11/20\n",
      "5000/5000 [==============================] - 2s 332us/step - loss: 0.1353 - acc: 0.9628 - val_loss: 0.3238 - val_acc: 0.8727\n",
      "Epoch 12/20\n",
      "5000/5000 [==============================] - 2s 362us/step - loss: 0.1119 - acc: 0.9692 - val_loss: 0.3689 - val_acc: 0.8625\n",
      "Epoch 13/20\n",
      "5000/5000 [==============================] - 2s 327us/step - loss: 0.0957 - acc: 0.9748 - val_loss: 0.3652 - val_acc: 0.8681\n",
      "Epoch 14/20\n",
      "5000/5000 [==============================] - 2s 335us/step - loss: 0.0757 - acc: 0.9824 - val_loss: 0.3854 - val_acc: 0.8690\n",
      "Epoch 15/20\n",
      "5000/5000 [==============================] - 2s 332us/step - loss: 0.0683 - acc: 0.9828 - val_loss: 0.3938 - val_acc: 0.8699\n",
      "Epoch 16/20\n",
      "5000/5000 [==============================] - 2s 326us/step - loss: 0.0610 - acc: 0.9852 - val_loss: 0.4314 - val_acc: 0.8672\n",
      "Epoch 17/20\n",
      "5000/5000 [==============================] - 2s 325us/step - loss: 0.0442 - acc: 0.9908 - val_loss: 0.4607 - val_acc: 0.8671\n",
      "Epoch 18/20\n",
      "5000/5000 [==============================] - 2s 323us/step - loss: 0.0386 - acc: 0.9918 - val_loss: 0.4746 - val_acc: 0.8684\n",
      "Epoch 19/20\n",
      "5000/5000 [==============================] - 2s 319us/step - loss: 0.0321 - acc: 0.9944 - val_loss: 0.5232 - val_acc: 0.8669\n",
      "Epoch 20/20\n",
      "5000/5000 [==============================] - 2s 342us/step - loss: 0.0264 - acc: 0.9952 - val_loss: 0.5529 - val_acc: 0.8680\n"
     ]
    }
   ],
   "source": [
    "model.compile(optimizer='rmsprop',loss='binary_crossentropy',metrics=['acc'])\n",
    "history=model.fit(partial_t_train,partial_l_train,epochs=20,batch_size=512,validation_data=(t_val,l_val))"
   ]
  },
  {
   "cell_type": "code",
   "execution_count": 8,
   "metadata": {},
   "outputs": [
    {
     "data": {
      "image/png": "[encoded data removed]",
      "text/plain": [
       "<Figure size 432x288 with 1 Axes>"
      ]
     },
     "metadata": {
      "needs_background": "light"
     },
     "output_type": "display_data"
    }
   ],
   "source": [
    "import matplotlib.pyplot as plt \n",
    "history_dict = history.history \n",
    "loss = history_dict['loss'] \n",
    "val_loss = history_dict['val_loss'] \n",
    "epochs = range(1, len(loss) + 1) \n",
    "plt.plot(epochs, loss, 'bo', label='Training loss') \n",
    "plt.plot(epochs, val_loss, 'b', label='Validation loss') \n",
    "plt.title('Traning and validation loss')\n",
    "plt.xlabel('Epochs') \n",
    "plt.ylabel('Loss')\n",
    "plt.legend() \n",
    "plt.show() "
   ]
  },
  {
   "cell_type": "code",
   "execution_count": 9,
   "metadata": {},
   "outputs": [
    {
     "data": {
      "image/png": "[encoded data removed]",
      "text/plain": [
       "<Figure size 432x288 with 1 Axes>"
      ]
     },
     "metadata": {
      "needs_background": "light"
     },
     "output_type": "display_data"
    }
   ],
   "source": [
    "plt.clf()\n",
    "acc = history_dict['acc'] \n",
    "val_acc = history_dict['val_acc'] \n",
    "\n",
    "plt.plot(epochs, acc, 'bo', label='Training acc') \n",
    "plt.plot(epochs, val_acc, 'b', label='Validation acc') \n",
    "plt.title('Traning and validation accuracy')\n",
    "plt.xlabel('Epochs') \n",
    "plt.ylabel('Accuracy')\n",
    "plt.legend() \n",
    "plt.show() "
   ]
  },
  {
   "cell_type": "code",
   "execution_count": 10,
   "metadata": {},
   "outputs": [
    {
     "name": "stdout",
     "output_type": "stream",
     "text": [
      "Epoch 1/4\n",
      "15000/15000 [==============================] - 2s 131us/step - loss: 0.5406 - accuracy: 0.7765\n",
      "Epoch 2/4\n",
      "15000/15000 [==============================] - 2s 122us/step - loss: 0.3263 - accuracy: 0.9007\n",
      "Epoch 3/4\n",
      "15000/15000 [==============================] - 2s 122us/step - loss: 0.2370 - accuracy: 0.9233\n",
      "Epoch 4/4\n",
      "15000/15000 [==============================] - 2s 126us/step - loss: 0.1827 - accuracy: 0.9427\n",
      "25000/25000 [==============================] - 4s 160us/step\n"
     ]
    }
   ],
   "source": [
    "from keras import models \n",
    "from keras import layers\n",
    "model = models.Sequential() \n",
    "model.add(layers.Dense(16, activation='relu', input_shape=(10000,))) \n",
    "model.add(layers.Dense(16, activation='relu')) \n",
    "model.add(layers.Dense(1, activation='sigmoid'))\n",
    "model.compile(optimizer='rmsprop',loss='binary_crossentropy',metrics=['accuracy'])\n",
    "model.fit(partial_train_data,partial_train_labels,epochs=4,batch_size=512)\n",
    "results=model.evaluate(x_test,y_test)"
   ]
  },
  {
   "cell_type": "code",
   "execution_count": 11,
   "metadata": {},
   "outputs": [
    {
     "data": {
      "text/plain": [
       "[0.29355840931892396, 0.8837199807167053]"
      ]
     },
     "execution_count": 11,
     "metadata": {},
     "output_type": "execute_result"
    }
   ],
   "source": [
    "results"
   ]
  },
  {
   "cell_type": "code",
   "execution_count": null,
   "metadata": {},
   "outputs": [],
   "source": []
  }
 ],
 "metadata": {
  "kernelspec": {
   "display_name": "Python 3",
   "language": "python",
   "name": "python3"
  },
  "language_info": {
   "codemirror_mode": {
    "name": "ipython",
    "version": 3
   },
   "file_extension": ".py",
   "mimetype": "text/x-python",
   "name": "python",
   "nbconvert_exporter": "python",
   "pygments_lexer": "ipython3",
   "version": "3.6.10"
  }
 },
 "nbformat": 4,
 "nbformat_minor": 4
}
