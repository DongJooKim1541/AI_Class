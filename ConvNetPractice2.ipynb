{
 "cells": [
  {
   "cell_type": "code",
   "execution_count": 19,
   "metadata": {},
   "outputs": [
    {
     "name": "stdout",
     "output_type": "stream",
     "text": [
      "dog 1 :  [[0.9858764]]\n",
      "\n",
      "\n",
      "dog 2 :  [[0.7148538]]\n",
      "\n",
      "\n",
      "dog 3 :  [[1.]]\n",
      "\n",
      "\n",
      "dog 4 :  [[0.99999905]]\n",
      "\n",
      "\n",
      "dog 5 :  [[0.99999976]]\n",
      "\n",
      "\n",
      "dog 6 :  [[0.9806639]]\n",
      "\n",
      "\n",
      "dog 7 :  [[0.3431139]]\n",
      "\n",
      "\n",
      "dog 8 :  [[0.99791175]]\n",
      "\n",
      "\n",
      "dog 9 :  [[0.8848343]]\n",
      "\n",
      "\n",
      "dog 10 :  [[1.]]\n",
      "\n",
      "\n"
     ]
    }
   ],
   "source": [
    "from keras.models import load_model\n",
    "from keras.preprocessing import image\n",
    "import numpy as np\n",
    "\n",
    "model= load_model('cats_and_dogs_small_2.h5')\n",
    "\n",
    "for i in range(0,10):\n",
    "    img_path = 'C:/Users/willk/Desktop/Kim/practice/dog'+ str(i+1) + '.jpg'\n",
    "    \n",
    "    img = image.load_img(img_path, target_size = (150, 150))\n",
    "        \n",
    "    x = image.img_to_array(img)\n",
    "    x = np.expand_dims(x, axis = 0)\n",
    "    x /= 255.\n",
    "        \n",
    "    preds = model.predict(x)\n",
    "\n",
    "    print('dog',str(i+1),': ',preds)\n",
    "    print('\\n')"
   ]
  },
  {
   "cell_type": "code",
   "execution_count": null,
   "metadata": {},
   "outputs": [],
   "source": []
  }
 ],
 "metadata": {
  "kernelspec": {
   "display_name": "Python 3",
   "language": "python",
   "name": "python3"
  },
  "language_info": {
   "codemirror_mode": {
    "name": "ipython",
    "version": 3
   },
   "file_extension": ".py",
   "mimetype": "text/x-python",
   "name": "python",
   "nbconvert_exporter": "python",
   "pygments_lexer": "ipython3",
   "version": "3.7.7"
  }
 },
 "nbformat": 4,
 "nbformat_minor": 4
}
